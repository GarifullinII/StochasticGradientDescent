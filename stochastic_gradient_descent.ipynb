{
 "cells": [
  {
   "cell_type": "code",
   "execution_count": 1,
   "id": "888e8c72",
   "metadata": {},
   "outputs": [],
   "source": [
    "import matplotlib.pyplot as plt\n",
    "import numpy as np\n",
    "import pandas as pd\n",
    "import warnings\n",
    "\n",
    "np.random.seed(0)\n",
    "\n",
    "warnings.filterwarnings('ignore')\n",
    "%matplotlib inline"
   ]
  },
  {
   "cell_type": "markdown",
   "id": "1538d8c5",
   "metadata": {},
   "source": [
    "Реализовать класс LinearRegressionSGD c обучением и применением линейной регрессии, построенной с помощью стохастического градиентного спуска, с заданным интерфейсом"
   ]
  },
  {
   "cell_type": "code",
   "execution_count": 42,
   "id": "1339bd02",
   "metadata": {},
   "outputs": [],
   "source": [
    "from sklearn.base import BaseEstimator\n",
    "\n",
    "class LinearRegressionSGD(BaseEstimator):\n",
    "    def __init__(self, epsilon=1e-4, max_steps=100, w0=None, alpha=1e-4):\n",
    "        \"\"\"\n",
    "        epsilon: минимальная разница для нормы изменения весов\n",
    "        max_steps: максимальное количество итераций\n",
    "        w0: np.array (d,) - начальные веса\n",
    "        alpha: шаг обучения\n",
    "        \"\"\"\n",
    "        self.epsilon = epsilon\n",
    "        self.max_steps = max_steps\n",
    "        self.w0 = w0\n",
    "        self.alpha = alpha\n",
    "        self.w = None\n",
    "        self.w_history = []\n",
    "\n",
    "    def fit(self, X, y):\n",
    "        X = np.hstack([np.ones((X.shape[0], 1)), X])  # добавим bias\n",
    "        l, d = X.shape\n",
    "        \n",
    "        # Инициализация весов\n",
    "        if self.w0 is None:\n",
    "            self.w = np.zeros(d)\n",
    "        else:\n",
    "            self.w = self.w0.copy()\n",
    "        \n",
    "        self.w_history.append(self.w.copy())\n",
    "        \n",
    "        for step in range(self.max_steps):\n",
    "            # выбираем случайный индекс (stochastic gradient descent)\n",
    "            i = np.random.randint(0, l)\n",
    "            Xi = X[i]\n",
    "            yi = y[i]\n",
    "            \n",
    "            # вычисляем градиент\n",
    "            gradient = self.calc_gradient(Xi, yi)\n",
    "            \n",
    "            # обновляем веса\n",
    "            new_w = self.w - self.alpha * gradient\n",
    "            self.w_history.append(new_w.copy())\n",
    "            \n",
    "            # проверка сходимости\n",
    "            if np.linalg.norm(new_w - self.w) < self.epsilon:\n",
    "                self.w = new_w\n",
    "                break\n",
    "            self.w = new_w\n",
    "        \n",
    "        return self\n",
    "\n",
    "    def calc_gradient(self, Xi, yi):\n",
    "        \"\"\"\n",
    "        Xi: np.array (d,) — одна выборка (уже с 1 для bias)\n",
    "        yi: float — истинное значение\n",
    "        output: np.array (d)\n",
    "        \"\"\"\n",
    "        y_pred = Xi @ self.w\n",
    "        gradient = -2 * Xi * (yi - y_pred)\n",
    "        return gradient\n",
    "\n",
    "    def predict(self, X):\n",
    "        X = np.hstack([np.ones((X.shape[0], 1)), X])  # добавим bias\n",
    "        return X @ self.w"
   ]
  },
  {
   "cell_type": "markdown",
   "id": "5a2e568a",
   "metadata": {},
   "source": [
    "Проверять работу буду на имеющемся в sklearn наборе данных <br>Возьму стандартный [датасет](https://scikit-learn.org/stable/modules/generated/sklearn.datasets.fetch_california_housing.html) со стоимостью жилья в различных районах Калифорнии в 1990 году <br>Датасет содержит информацию о средних ценах на жилье в районе и какие-то параметры района: средний возраст домов, среднее число комнат, население"
   ]
  },
  {
   "cell_type": "code",
   "execution_count": 43,
   "id": "b257c34f",
   "metadata": {},
   "outputs": [],
   "source": [
    "from sklearn.model_selection import train_test_split\n",
    "from sklearn.datasets import fetch_california_housing\n",
    "data = fetch_california_housing(as_frame=True)\n",
    "X = pd.DataFrame(data.data, columns=data.feature_names)\n",
    "y = data.target\n",
    "\n",
    "X_train, X_test, y_train, y_test = train_test_split(X, y, test_size=0.3, random_state=10)"
   ]
  },
  {
   "cell_type": "code",
   "execution_count": 44,
   "id": "01e7609b",
   "metadata": {},
   "outputs": [
    {
     "data": {
      "text/html": [
       "<div>\n",
       "<style scoped>\n",
       "    .dataframe tbody tr th:only-of-type {\n",
       "        vertical-align: middle;\n",
       "    }\n",
       "\n",
       "    .dataframe tbody tr th {\n",
       "        vertical-align: top;\n",
       "    }\n",
       "\n",
       "    .dataframe thead th {\n",
       "        text-align: right;\n",
       "    }\n",
       "</style>\n",
       "<table border=\"1\" class=\"dataframe\">\n",
       "  <thead>\n",
       "    <tr style=\"text-align: right;\">\n",
       "      <th></th>\n",
       "      <th>MedInc</th>\n",
       "      <th>HouseAge</th>\n",
       "      <th>AveRooms</th>\n",
       "      <th>AveBedrms</th>\n",
       "      <th>Population</th>\n",
       "      <th>AveOccup</th>\n",
       "      <th>Latitude</th>\n",
       "      <th>Longitude</th>\n",
       "    </tr>\n",
       "  </thead>\n",
       "  <tbody>\n",
       "    <tr>\n",
       "      <th>17853</th>\n",
       "      <td>5.3994</td>\n",
       "      <td>23.0</td>\n",
       "      <td>5.019157</td>\n",
       "      <td>1.022989</td>\n",
       "      <td>910.0</td>\n",
       "      <td>3.486590</td>\n",
       "      <td>37.44</td>\n",
       "      <td>-121.88</td>\n",
       "    </tr>\n",
       "    <tr>\n",
       "      <th>15963</th>\n",
       "      <td>3.9567</td>\n",
       "      <td>52.0</td>\n",
       "      <td>5.173664</td>\n",
       "      <td>1.127863</td>\n",
       "      <td>1848.0</td>\n",
       "      <td>3.526718</td>\n",
       "      <td>37.71</td>\n",
       "      <td>-122.44</td>\n",
       "    </tr>\n",
       "    <tr>\n",
       "      <th>20106</th>\n",
       "      <td>3.0500</td>\n",
       "      <td>17.0</td>\n",
       "      <td>5.383764</td>\n",
       "      <td>1.095941</td>\n",
       "      <td>753.0</td>\n",
       "      <td>2.778598</td>\n",
       "      <td>37.94</td>\n",
       "      <td>-120.29</td>\n",
       "    </tr>\n",
       "    <tr>\n",
       "      <th>15525</th>\n",
       "      <td>2.2500</td>\n",
       "      <td>16.0</td>\n",
       "      <td>4.331113</td>\n",
       "      <td>1.109420</td>\n",
       "      <td>2737.0</td>\n",
       "      <td>2.604186</td>\n",
       "      <td>33.14</td>\n",
       "      <td>-117.05</td>\n",
       "    </tr>\n",
       "    <tr>\n",
       "      <th>5234</th>\n",
       "      <td>2.0187</td>\n",
       "      <td>39.0</td>\n",
       "      <td>4.876068</td>\n",
       "      <td>1.102564</td>\n",
       "      <td>1313.0</td>\n",
       "      <td>5.611111</td>\n",
       "      <td>33.94</td>\n",
       "      <td>-118.23</td>\n",
       "    </tr>\n",
       "  </tbody>\n",
       "</table>\n",
       "</div>"
      ],
      "text/plain": [
       "       MedInc  HouseAge  AveRooms  AveBedrms  Population  AveOccup  Latitude  \\\n",
       "17853  5.3994      23.0  5.019157   1.022989       910.0  3.486590     37.44   \n",
       "15963  3.9567      52.0  5.173664   1.127863      1848.0  3.526718     37.71   \n",
       "20106  3.0500      17.0  5.383764   1.095941       753.0  2.778598     37.94   \n",
       "15525  2.2500      16.0  4.331113   1.109420      2737.0  2.604186     33.14   \n",
       "5234   2.0187      39.0  4.876068   1.102564      1313.0  5.611111     33.94   \n",
       "\n",
       "       Longitude  \n",
       "17853    -121.88  \n",
       "15963    -122.44  \n",
       "20106    -120.29  \n",
       "15525    -117.05  \n",
       "5234     -118.23  "
      ]
     },
     "execution_count": 44,
     "metadata": {},
     "output_type": "execute_result"
    }
   ],
   "source": [
    "X_train.head()"
   ]
  },
  {
   "cell_type": "markdown",
   "id": "8b75a4f0",
   "metadata": {},
   "source": [
    "Часть 1 <br>Метрикой качества в задаче будет MAPE - Mean Absolute Percentage Error <br>Реализовать её с заданным интефейсом и вычислить MAPE(y_test, y_0), где y_0 = (mean(y_test), mean(y_test), ...)"
   ]
  },
  {
   "cell_type": "code",
   "execution_count": 49,
   "id": "26b6babf",
   "metadata": {},
   "outputs": [],
   "source": [
    "def MAPE(y_true, y_pred):\n",
    "    y_true, y_pred = np.array(y_true), np.array(y_pred)\n",
    "    eps = 1e-8\n",
    "    return np.mean(np.abs((y_true - y_pred) / (y_true + eps))) * 100"
   ]
  },
  {
   "cell_type": "code",
   "execution_count": 50,
   "id": "8e4b0fba",
   "metadata": {},
   "outputs": [
    {
     "name": "stdout",
     "output_type": "stream",
     "text": [
      "MAPE для среднего предсказания: 62.2120840858977\n"
     ]
    }
   ],
   "source": [
    "y_0 = np.full_like(y_test, y_test.mean())\n",
    "print(\"MAPE для среднего предсказания:\", MAPE(y_test, y_0))"
   ]
  },
  {
   "cell_type": "markdown",
   "id": "a155a163",
   "metadata": {},
   "source": [
    "Часть 2 <br>Обучите LinearRegressionSGD с базовыми параметрами на тренировочном наборе данных (X_train, y_train), сделайте предсказание на тестовых данных X_test, записав результат в переменную y_pred_sgd и вычислите ошибку MAPE"
   ]
  },
  {
   "cell_type": "code",
   "execution_count": 55,
   "id": "5f3a9127",
   "metadata": {},
   "outputs": [
    {
     "name": "stdout",
     "output_type": "stream",
     "text": [
      "MAPE для SGD: nan\n"
     ]
    }
   ],
   "source": [
    "sgd = LinearRegressionSGD(alpha=1e-4, max_steps=5000)\n",
    "sgd.fit(X_train.values, y_train.values)\n",
    "y_pred_sgd = sgd.predict(X_test.values)\n",
    "\n",
    "print(\"MAPE для SGD:\", MAPE(y_test, y_pred_sgd))"
   ]
  },
  {
   "cell_type": "markdown",
   "id": "0581c6b9",
   "metadata": {},
   "source": [
    "Часть 3 <br>Вычислите веса по точной формуле, используя X_train и y_train, предскажите с их помощью целевую переменную на X_test, записав результат в переменную y_pred_lr и вычислите ошибку MAPE"
   ]
  },
  {
   "cell_type": "code",
   "execution_count": 52,
   "id": "a7fa90f5",
   "metadata": {},
   "outputs": [
    {
     "name": "stdout",
     "output_type": "stream",
     "text": [
      "MAPE для точного решения: 31.758468351291373\n"
     ]
    }
   ],
   "source": [
    "X_train_bias = np.hstack([np.ones((X_train.shape[0], 1)), X_train.values])\n",
    "X_test_bias = np.hstack([np.ones((X_test.shape[0], 1)), X_test.values])\n",
    "\n",
    "w_exact = np.linalg.pinv(X_train_bias.T @ X_train_bias) @ (X_train_bias.T @ y_train.values)\n",
    "y_pred_lr = X_test_bias @ w_exact\n",
    "\n",
    "print(\"MAPE для точного решения:\", MAPE(y_test, y_pred_lr))"
   ]
  }
 ],
 "metadata": {
  "kernelspec": {
   "display_name": "Python 3",
   "language": "python",
   "name": "python3"
  },
  "language_info": {
   "codemirror_mode": {
    "name": "ipython",
    "version": 3
   },
   "file_extension": ".py",
   "mimetype": "text/x-python",
   "name": "python",
   "nbconvert_exporter": "python",
   "pygments_lexer": "ipython3",
   "version": "3.13.1"
  }
 },
 "nbformat": 4,
 "nbformat_minor": 5
}
